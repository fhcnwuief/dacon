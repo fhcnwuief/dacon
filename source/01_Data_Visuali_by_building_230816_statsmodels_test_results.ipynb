{
 "cells": [
  {
   "cell_type": "code",
   "execution_count": 3,
   "id": "7440e9b2",
   "metadata": {},
   "outputs": [],
   "source": [
    "import numpy as np\n",
    "import pandas as pd\n",
    "\n",
    "# preprocessing\n",
    "import os\n",
    "from datetime import datetime\n",
    "\n",
    "# EDA\n",
    "import matplotlib.pyplot as plt\n",
    "import seaborn as sns\n",
    "import statsmodels.api as sm\n",
    "import scipy.stats\n",
    "from scipy.stats import skew\n",
    "from scipy.stats import spearmanr\n",
    "\n",
    "# Learning algorithms\n",
    "import sklearn\n",
    "from sklearn.linear_model import *\n",
    "from sklearn.svm import SVR\n",
    "from sklearn.cluster import KMeans\n",
    "\n",
    "import lightgbm as lgb\n",
    "from lightgbm import LGBMRegressor\n",
    "# import catboost\n",
    "\n",
    "# model validation\n",
    "from sklearn.model_selection import KFold\n",
    "\n",
    "import warnings\n",
    "warnings.filterwarnings('ignore')\n",
    "\n",
    "SEED = 2\n",
    "np.random.seed(SEED)"
   ]
  },
  {
   "cell_type": "code",
   "execution_count": 4,
   "id": "bfdcf728",
   "metadata": {},
   "outputs": [],
   "source": [
    "from matplotlib import font_manager, rc\n",
    "plt.rcParams['axes.unicode_minus'] = False \n",
    "\n",
    "#f_path = \"c:/Windows/Fonts/AppleGothic.ttf\"(맥)\n",
    "f_path = \"c:/Windows/Fonts/malgun.ttf\"\n",
    "\n",
    "font_name = font_manager.FontProperties(fname=f_path).get_name()\n",
    "rc('font',family = font_name)"
   ]
  },
  {
   "cell_type": "code",
   "execution_count": 5,
   "id": "1dc4664e",
   "metadata": {},
   "outputs": [],
   "source": [
    "main_path = 'D:/dacon/data/'\n",
    "data_dir = 'energy'\n",
    "dir_path = f'{main_path}/{data_dir}'\n",
    "\n",
    "test_name = 'test.csv'\n",
    "train_name = 'train.csv'\n",
    "building_name = 'building_info.csv'\n",
    "sample_submission_name = 'sample_submission.csv'"
   ]
  },
  {
   "cell_type": "code",
   "execution_count": 6,
   "id": "56ac93e9",
   "metadata": {},
   "outputs": [],
   "source": [
    "def rename_dict(df):\n",
    "    # 이름 정리\n",
    "    targets = df.columns[df.columns.str.contains('\\(')]\n",
    "    if len(targets) == 7:\n",
    "        # train_df\n",
    "        df.rename(columns = {\n",
    "            '기온(C)':'기온',\n",
    "            '강수량(mm)':'강수량',\n",
    "            '풍속(m/s)':'풍속',\n",
    "            '습도(%)':'습도',\n",
    "            '일조(hr)':'일조',\n",
    "            '일사(MJ/m2)':'일사',\n",
    "            '전력소비량(kWh)':'전력소비량'\n",
    "        },inplace = True)\n",
    "    elif len(targets) == 4:\n",
    "        # test_df\n",
    "        df.rename(columns = {\n",
    "            '기온(C)':'기온',\n",
    "            '강수량(mm)':'강수량',\n",
    "            '풍속(m/s)':'풍속',\n",
    "            '습도(%)':'습도',\n",
    "        },inplace = True)\n",
    "    else:\n",
    "        # building_df\n",
    "        df.rename(columns = {\n",
    "            '연면적(m2)':'연면적',\n",
    "            '냉방면적(m2)':'냉방면적', \n",
    "            '태양광용량(kW)':'태양광용량',\n",
    "            'ESS저장용량(kWh)':'ESS저장용량',\n",
    "            'PCS용량(kW)':'PCS용량'\n",
    "        },inplace = True)\n",
    "        \n",
    "    return df\n",
    "\n",
    "def data_datetime_setting(df):\n",
    "    date_format = \"%Y%m%d %H\"\n",
    "    # 일시 컬럼 이용하여 요일 확인\n",
    "    df['요일'] = df['일시'].apply(lambda x: datetime.strptime(x, date_format).strftime(\"%a\"))\n",
    "    # 일시 컬럼 이용하여 연/월/일/시간 컬럼추가\n",
    "    df['일시'] = pd.to_datetime(df['일시'], format='%Y%m%d %H')\n",
    "    df['연'] = df['일시'].dt.year\n",
    "    df['월'] = df['일시'].dt.month\n",
    "    df['일'] = df['일시'].dt.day\n",
    "    df['시간'] = df['일시'].dt.hour\n",
    "    return df\n",
    "\n",
    "def data_preprocessing(df):\n",
    "    try:\n",
    "        df['강수량'].fillna(0, inplace=True)\n",
    "        df['풍속'].fillna(method='ffill', inplace=True)\n",
    "        df['습도'].fillna(method='ffill', inplace=True)\n",
    "        df['일조'].fillna(0, inplace=True)\n",
    "        df['일사'].fillna(0, inplace=True)\n",
    "    except:\n",
    "        df['강수량'].fillna(0, inplace=True)\n",
    "        df['일조'] = 0\n",
    "        df['일사'] = 0\n",
    "    return df\n",
    "\n",
    "def merge_dfs(df):\n",
    "    merge_df = df.merge(building_df)\n",
    "    for col in merge_df.columns:\n",
    "        merge_df[col] = merge_df[col].replace('-',0)\n",
    "        merge_df[col] = merge_df[col].fillna(0)\n",
    "\n",
    "    merge_df['태양광용량'] = merge_df['태양광용량'].astype('float64')\n",
    "    merge_df['ESS저장용량'] = merge_df['ESS저장용량'].astype('float64')\n",
    "    merge_df['PCS용량'] = merge_df['PCS용량'].astype('float64')\n",
    "    merge_df.drop(['num_date_time'],axis=1,inplace=True) # 둘 다 없어도 알 수 있는 데이터라서\n",
    "    return merge_df\n",
    "\n",
    "# 요일, 건물유형은 원핫인코딩하기 > pd.get_dummies()\n"
   ]
  },
  {
   "cell_type": "code",
   "execution_count": 7,
   "id": "a1e017a4",
   "metadata": {},
   "outputs": [
    {
     "data": {
      "text/plain": [
       "['building_info.csv', 'sample_submission.csv', 'test.csv', 'train.csv']"
      ]
     },
     "execution_count": 7,
     "metadata": {},
     "output_type": "execute_result"
    }
   ],
   "source": [
    "os.listdir(dir_path)"
   ]
  },
  {
   "cell_type": "code",
   "execution_count": 8,
   "id": "247d987f",
   "metadata": {},
   "outputs": [
    {
     "data": {
      "text/plain": [
       "Index(['num_date_time', 'answer'], dtype='object')"
      ]
     },
     "execution_count": 8,
     "metadata": {},
     "output_type": "execute_result"
    }
   ],
   "source": [
    "# 제출 형식\n",
    "pd.read_csv(f'{dir_path}/{sample_submission_name}').columns"
   ]
  },
  {
   "cell_type": "code",
   "execution_count": 9,
   "id": "3130d0a5",
   "metadata": {},
   "outputs": [],
   "source": [
    "test_df = pd.read_csv(f'{dir_path}/{test_name}')\n",
    "train_df = pd.read_csv(f'{dir_path}/{train_name}')\n",
    "building_df = pd.read_csv(f'{dir_path}/{building_name}')"
   ]
  },
  {
   "cell_type": "code",
   "execution_count": 10,
   "id": "6e92d41e",
   "metadata": {},
   "outputs": [],
   "source": [
    "train_df = rename_dict(df = train_df)\n",
    "# train_df = data_datetime_setting(df=train_df)\n",
    "train_df = data_preprocessing(df=train_df)\n",
    "\n",
    "building_df = rename_dict(df = building_df)\n",
    "\n",
    "test_df = rename_dict(df = test_df)\n",
    "test_df = data_preprocessing(df=test_df)"
   ]
  },
  {
   "cell_type": "code",
   "execution_count": 11,
   "id": "fbac6fc5",
   "metadata": {},
   "outputs": [],
   "source": [
    "train_merge = merge_dfs(df = train_df)\n",
    "test_merge = merge_dfs(df = test_df)"
   ]
  },
  {
   "cell_type": "code",
   "execution_count": 12,
   "id": "f4cb1084",
   "metadata": {
    "scrolled": true
   },
   "outputs": [
    {
     "name": "stderr",
     "output_type": "stream",
     "text": [
      "  0%|          | 0/100 [00:00<?, ?it/s]"
     ]
    },
    {
     "name": "stderr",
     "output_type": "stream",
     "text": [
      "  0%|          | 0/100 [00:00<?, ?it/s]\n"
     ]
    },
    {
     "ename": "IndexError",
     "evalue": "list index out of range",
     "output_type": "error",
     "traceback": [
      "\u001b[1;31m---------------------------------------------------------------------------\u001b[0m",
      "\u001b[1;31mIndexError\u001b[0m                                Traceback (most recent call last)",
      "Cell \u001b[1;32mIn[12], line 38\u001b[0m\n\u001b[0;32m     35\u001b[0m X_test \u001b[38;5;241m=\u001b[39m sm\u001b[38;5;241m.\u001b[39madd_constant(X_test)\n\u001b[0;32m     36\u001b[0m predictions \u001b[38;5;241m=\u001b[39m model\u001b[38;5;241m.\u001b[39mpredict(X_test)\n\u001b[1;32m---> 38\u001b[0m test_merge\u001b[38;5;241m.\u001b[39mloc[test_merge[test_merge[\u001b[38;5;124m'\u001b[39m\u001b[38;5;124m건물번호\u001b[39m\u001b[38;5;124m'\u001b[39m]\u001b[38;5;241m==\u001b[39mn]\u001b[38;5;241m.\u001b[39mindex,\u001b[38;5;124m'\u001b[39m\u001b[38;5;124manswer\u001b[39m\u001b[38;5;124m'\u001b[39m] \u001b[38;5;241m=\u001b[39m predicts[n\u001b[38;5;241m-\u001b[39m\u001b[38;5;241m1\u001b[39m]\u001b[38;5;241m.\u001b[39mvalues\n\u001b[0;32m     40\u001b[0m \u001b[38;5;66;03m# 모델 결과 출력\u001b[39;00m\n\u001b[0;32m     41\u001b[0m \u001b[38;5;28mprint\u001b[39m(model\u001b[38;5;241m.\u001b[39msummary())\n",
      "\u001b[1;31mIndexError\u001b[0m: list index out of range"
     ]
    }
   ],
   "source": [
    "from tqdm import tqdm\n",
    "import pandas as pd\n",
    "import statsmodels.api as sm\n",
    "predicts = []\n",
    "# 데이터 불러오기 (예시)\n",
    "for n in tqdm(range(1,len(train_merge['건물번호'].unique())+1)):\n",
    "    train__ = train_merge[train_merge['건물번호'] == n]\n",
    "    test__ = test_merge[test_merge['건물번호'] == n]\n",
    "    n_data = train__.copy()\n",
    "    t_data = test__.copy()\n",
    "    n_data.set_index('일시', inplace=True)\n",
    "    t_data.set_index('일시', inplace=True)\n",
    "\n",
    "    # 다중 회귀를 위한 피쳐 선택\n",
    "    features = ['건물번호', '기온', '강수량', '풍속', '습도', '일조', '일사', '연면적',\n",
    "       '냉방면적', '태양광용량', 'ESS저장용량', 'PCS용량']\n",
    "    # 종속 변수 설정\n",
    "    target = '전력소비량'\n",
    "\n",
    "#     # 훈련 데이터 분할 (예시)\n",
    "#     index = int(len(data)*4/5)\n",
    "#     train_data = data.iloc[:index]\n",
    "#     test_data = data.iloc[index:]\n",
    "\n",
    "    # 피쳐와 종속 변수 설정\n",
    "    X_train = n_data[features]\n",
    "    y_train = n_data[target]\n",
    "    X_test = t_data[features]\n",
    "\n",
    "\n",
    "    # 상수(intercept)를 추가하여 회귀 모델 피팅\n",
    "    X_train = sm.add_constant(X_train)\n",
    "    model = sm.OLS(y_train, X_train).fit()\n",
    "    # 테스트 데이터 예측\n",
    "    X_test = sm.add_constant(X_test)\n",
    "    predictions = model.predict(X_test)\n",
    "    \n",
    "    test_merge.loc[test_merge[test_merge['건물번호']==n].index,'answer'] = predicts[n-1].values\n",
    "    \n",
    "    # 모델 결과 출력\n",
    "    print(model.summary())"
   ]
  },
  {
   "cell_type": "markdown",
   "id": "e02164cc",
   "metadata": {},
   "source": [
    "건물별로 "
   ]
  },
  {
   "cell_type": "code",
   "execution_count": 23,
   "id": "17b087af",
   "metadata": {},
   "outputs": [],
   "source": [
    "test_merge['num_date_time'] = test_merge['건물번호'].astype('str') + '_' + test_merge['일시'].astype('str')"
   ]
  },
  {
   "cell_type": "code",
   "execution_count": 26,
   "id": "9bbe6393",
   "metadata": {},
   "outputs": [],
   "source": [
    "test_merge[['num_date_time','answer']].to_csv('../output/submission.csv',index=False)"
   ]
  },
  {
   "cell_type": "code",
   "execution_count": 27,
   "id": "d2abdc2f",
   "metadata": {},
   "outputs": [
    {
     "data": {
      "text/html": [
       "<div>\n",
       "<style scoped>\n",
       "    .dataframe tbody tr th:only-of-type {\n",
       "        vertical-align: middle;\n",
       "    }\n",
       "\n",
       "    .dataframe tbody tr th {\n",
       "        vertical-align: top;\n",
       "    }\n",
       "\n",
       "    .dataframe thead th {\n",
       "        text-align: right;\n",
       "    }\n",
       "</style>\n",
       "<table border=\"1\" class=\"dataframe\">\n",
       "  <thead>\n",
       "    <tr style=\"text-align: right;\">\n",
       "      <th></th>\n",
       "      <th>num_date_time</th>\n",
       "      <th>answer</th>\n",
       "    </tr>\n",
       "  </thead>\n",
       "  <tbody>\n",
       "    <tr>\n",
       "      <th>0</th>\n",
       "      <td>1_20220825 00</td>\n",
       "      <td>1816.315399</td>\n",
       "    </tr>\n",
       "    <tr>\n",
       "      <th>1</th>\n",
       "      <td>1_20220825 01</td>\n",
       "      <td>1569.815399</td>\n",
       "    </tr>\n",
       "    <tr>\n",
       "      <th>2</th>\n",
       "      <td>1_20220825 02</td>\n",
       "      <td>1675.815399</td>\n",
       "    </tr>\n",
       "    <tr>\n",
       "      <th>3</th>\n",
       "      <td>1_20220825 03</td>\n",
       "      <td>1630.815399</td>\n",
       "    </tr>\n",
       "    <tr>\n",
       "      <th>4</th>\n",
       "      <td>1_20220825 04</td>\n",
       "      <td>1535.315399</td>\n",
       "    </tr>\n",
       "    <tr>\n",
       "      <th>...</th>\n",
       "      <td>...</td>\n",
       "      <td>...</td>\n",
       "    </tr>\n",
       "    <tr>\n",
       "      <th>16795</th>\n",
       "      <td>100_20220831 19</td>\n",
       "      <td>662.838498</td>\n",
       "    </tr>\n",
       "    <tr>\n",
       "      <th>16796</th>\n",
       "      <td>100_20220831 20</td>\n",
       "      <td>555.760373</td>\n",
       "    </tr>\n",
       "    <tr>\n",
       "      <th>16797</th>\n",
       "      <td>100_20220831 21</td>\n",
       "      <td>530.842404</td>\n",
       "    </tr>\n",
       "    <tr>\n",
       "      <th>16798</th>\n",
       "      <td>100_20220831 22</td>\n",
       "      <td>552.637326</td>\n",
       "    </tr>\n",
       "    <tr>\n",
       "      <th>16799</th>\n",
       "      <td>100_20220831 23</td>\n",
       "      <td>476.238888</td>\n",
       "    </tr>\n",
       "  </tbody>\n",
       "</table>\n",
       "<p>16800 rows × 2 columns</p>\n",
       "</div>"
      ],
      "text/plain": [
       "         num_date_time       answer\n",
       "0        1_20220825 00  1816.315399\n",
       "1        1_20220825 01  1569.815399\n",
       "2        1_20220825 02  1675.815399\n",
       "3        1_20220825 03  1630.815399\n",
       "4        1_20220825 04  1535.315399\n",
       "...                ...          ...\n",
       "16795  100_20220831 19   662.838498\n",
       "16796  100_20220831 20   555.760373\n",
       "16797  100_20220831 21   530.842404\n",
       "16798  100_20220831 22   552.637326\n",
       "16799  100_20220831 23   476.238888\n",
       "\n",
       "[16800 rows x 2 columns]"
      ]
     },
     "execution_count": 27,
     "metadata": {},
     "output_type": "execute_result"
    }
   ],
   "source": [
    "test_merge[['num_date_time','answer']]"
   ]
  },
  {
   "cell_type": "code",
   "execution_count": null,
   "id": "925138ca",
   "metadata": {},
   "outputs": [],
   "source": []
  }
 ],
 "metadata": {
  "kernelspec": {
   "display_name": "Python 3 (ipykernel)",
   "language": "python",
   "name": "python3"
  },
  "language_info": {
   "codemirror_mode": {
    "name": "ipython",
    "version": 3
   },
   "file_extension": ".py",
   "mimetype": "text/x-python",
   "name": "python",
   "nbconvert_exporter": "python",
   "pygments_lexer": "ipython3",
   "version": "3.11.5"
  }
 },
 "nbformat": 4,
 "nbformat_minor": 5
}
